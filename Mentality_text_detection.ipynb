{
 "nbformat": 4,
 "nbformat_minor": 0,
 "metadata": {
  "colab": {
   "private_outputs": true,
   "provenance": [],
   "gpuType": "T4"
  },
  "kernelspec": {
   "name": "python3",
   "display_name": "Python 3 (ipykernel)",
   "language": "python"
  },
  "language_info": {
   "name": "python"
  },
  "accelerator": "GPU"
 },
 "cells": [
  {
   "cell_type": "code",
   "metadata": {
    "id": "ba8HIhlYRRRN",
    "ExecuteTime": {
     "end_time": "2025-01-12T21:26:51.329800Z",
     "start_time": "2025-01-12T21:26:51.135798Z"
    }
   },
   "source": [
    "import torch\n",
    "import numpy as np\n",
    "import torch.nn as nn\n",
    "import torch.optim as optim\n",
    "from openpyxl.styles.builtins import output\n",
    "from torch.nn import CrossEntropyLoss\n",
    "from torch.utils.data import DataLoader, TensorDataset\n",
    "from sklearn.metrics import accuracy_score, confusion_matrix\n",
    "import matplotlib.pyplot as plt\n",
    "from torchvision import datasets\n",
    "from torchvision.transforms import ToTensor\n",
    "import pandas as pd\n",
    "import seaborn as sns\n",
    "from sklearn.model_selection import train_test_split\n",
    "from sklearn.preprocessing import MinMaxScaler\n",
    "import torchvision\n",
    "import torchvision.transforms as transforms\n",
    "import torchvision.models as models"
   ],
   "outputs": [],
   "execution_count": 24
  },
  {
   "metadata": {
    "ExecuteTime": {
     "end_time": "2025-01-12T21:34:09.351002Z",
     "start_time": "2025-01-12T21:34:09.322497Z"
    }
   },
   "cell_type": "code",
   "source": "path = \"../model_bert_mental2\"\n",
   "outputs": [],
   "execution_count": 49
  },
  {
   "metadata": {},
   "cell_type": "code",
   "outputs": [],
   "execution_count": null,
   "source": ""
  },
  {
   "metadata": {
    "ExecuteTime": {
     "end_time": "2025-01-12T21:35:30.315130Z",
     "start_time": "2025-01-12T21:35:30.301595Z"
    }
   },
   "cell_type": "code",
   "source": [
    "import os\n",
    "if os.path.exists(path):\n",
    "    print(\"Model already exists\")\n",
    "else:\n",
    "    print(\"Model does not exist\")\n"
   ],
   "outputs": [
    {
     "name": "stdout",
     "output_type": "stream",
     "text": [
      "Model already exists\n"
     ]
    }
   ],
   "execution_count": 51
  },
  {
   "metadata": {},
   "cell_type": "code",
   "outputs": [],
   "execution_count": null,
   "source": ""
  },
  {
   "cell_type": "code",
   "source": [
    "df = pd.read_csv('Combined Data.csv')\n",
    "print(df.shape)\n",
    "df.head()"
   ],
   "metadata": {
    "id": "PLYeX4X8TlXl",
    "ExecuteTime": {
     "end_time": "2025-01-12T21:26:52.785457Z",
     "start_time": "2025-01-12T21:26:51.593488Z"
    }
   },
   "outputs": [
    {
     "name": "stdout",
     "output_type": "stream",
     "text": [
      "(53043, 3)\n"
     ]
    },
    {
     "data": {
      "text/plain": [
       "   Unnamed: 0                                          statement   status\n",
       "0           0                                         oh my gosh  Anxiety\n",
       "1           1  trouble sleeping, confused mind, restless hear...  Anxiety\n",
       "2           2  All wrong, back off dear, forward doubt. Stay ...  Anxiety\n",
       "3           3  I've shifted my focus to something else but I'...  Anxiety\n",
       "4           4  I'm restless and restless, it's been a month n...  Anxiety"
      ],
      "text/html": [
       "<div>\n",
       "<style scoped>\n",
       "    .dataframe tbody tr th:only-of-type {\n",
       "        vertical-align: middle;\n",
       "    }\n",
       "\n",
       "    .dataframe tbody tr th {\n",
       "        vertical-align: top;\n",
       "    }\n",
       "\n",
       "    .dataframe thead th {\n",
       "        text-align: right;\n",
       "    }\n",
       "</style>\n",
       "<table border=\"1\" class=\"dataframe\">\n",
       "  <thead>\n",
       "    <tr style=\"text-align: right;\">\n",
       "      <th></th>\n",
       "      <th>Unnamed: 0</th>\n",
       "      <th>statement</th>\n",
       "      <th>status</th>\n",
       "    </tr>\n",
       "  </thead>\n",
       "  <tbody>\n",
       "    <tr>\n",
       "      <th>0</th>\n",
       "      <td>0</td>\n",
       "      <td>oh my gosh</td>\n",
       "      <td>Anxiety</td>\n",
       "    </tr>\n",
       "    <tr>\n",
       "      <th>1</th>\n",
       "      <td>1</td>\n",
       "      <td>trouble sleeping, confused mind, restless hear...</td>\n",
       "      <td>Anxiety</td>\n",
       "    </tr>\n",
       "    <tr>\n",
       "      <th>2</th>\n",
       "      <td>2</td>\n",
       "      <td>All wrong, back off dear, forward doubt. Stay ...</td>\n",
       "      <td>Anxiety</td>\n",
       "    </tr>\n",
       "    <tr>\n",
       "      <th>3</th>\n",
       "      <td>3</td>\n",
       "      <td>I've shifted my focus to something else but I'...</td>\n",
       "      <td>Anxiety</td>\n",
       "    </tr>\n",
       "    <tr>\n",
       "      <th>4</th>\n",
       "      <td>4</td>\n",
       "      <td>I'm restless and restless, it's been a month n...</td>\n",
       "      <td>Anxiety</td>\n",
       "    </tr>\n",
       "  </tbody>\n",
       "</table>\n",
       "</div>"
      ]
     },
     "execution_count": 25,
     "metadata": {},
     "output_type": "execute_result"
    }
   ],
   "execution_count": 25
  },
  {
   "cell_type": "code",
   "source": [
    "df = df[['statement', 'status']]"
   ],
   "metadata": {
    "id": "YRryZxQxTxYt",
    "ExecuteTime": {
     "end_time": "2025-01-12T21:26:52.837795Z",
     "start_time": "2025-01-12T21:26:52.805415Z"
    }
   },
   "outputs": [],
   "execution_count": 26
  },
  {
   "cell_type": "code",
   "source": [
    "df.head()"
   ],
   "metadata": {
    "id": "pscdJK3VVF-4",
    "ExecuteTime": {
     "end_time": "2025-01-12T21:26:52.973069Z",
     "start_time": "2025-01-12T21:26:52.964400Z"
    }
   },
   "outputs": [
    {
     "data": {
      "text/plain": [
       "                                           statement   status\n",
       "0                                         oh my gosh  Anxiety\n",
       "1  trouble sleeping, confused mind, restless hear...  Anxiety\n",
       "2  All wrong, back off dear, forward doubt. Stay ...  Anxiety\n",
       "3  I've shifted my focus to something else but I'...  Anxiety\n",
       "4  I'm restless and restless, it's been a month n...  Anxiety"
      ],
      "text/html": [
       "<div>\n",
       "<style scoped>\n",
       "    .dataframe tbody tr th:only-of-type {\n",
       "        vertical-align: middle;\n",
       "    }\n",
       "\n",
       "    .dataframe tbody tr th {\n",
       "        vertical-align: top;\n",
       "    }\n",
       "\n",
       "    .dataframe thead th {\n",
       "        text-align: right;\n",
       "    }\n",
       "</style>\n",
       "<table border=\"1\" class=\"dataframe\">\n",
       "  <thead>\n",
       "    <tr style=\"text-align: right;\">\n",
       "      <th></th>\n",
       "      <th>statement</th>\n",
       "      <th>status</th>\n",
       "    </tr>\n",
       "  </thead>\n",
       "  <tbody>\n",
       "    <tr>\n",
       "      <th>0</th>\n",
       "      <td>oh my gosh</td>\n",
       "      <td>Anxiety</td>\n",
       "    </tr>\n",
       "    <tr>\n",
       "      <th>1</th>\n",
       "      <td>trouble sleeping, confused mind, restless hear...</td>\n",
       "      <td>Anxiety</td>\n",
       "    </tr>\n",
       "    <tr>\n",
       "      <th>2</th>\n",
       "      <td>All wrong, back off dear, forward doubt. Stay ...</td>\n",
       "      <td>Anxiety</td>\n",
       "    </tr>\n",
       "    <tr>\n",
       "      <th>3</th>\n",
       "      <td>I've shifted my focus to something else but I'...</td>\n",
       "      <td>Anxiety</td>\n",
       "    </tr>\n",
       "    <tr>\n",
       "      <th>4</th>\n",
       "      <td>I'm restless and restless, it's been a month n...</td>\n",
       "      <td>Anxiety</td>\n",
       "    </tr>\n",
       "  </tbody>\n",
       "</table>\n",
       "</div>"
      ]
     },
     "execution_count": 27,
     "metadata": {},
     "output_type": "execute_result"
    }
   ],
   "execution_count": 27
  },
  {
   "metadata": {
    "ExecuteTime": {
     "end_time": "2025-01-12T21:26:53.113481Z",
     "start_time": "2025-01-12T21:26:53.099446Z"
    }
   },
   "cell_type": "code",
   "source": "df['status'].unique()",
   "outputs": [
    {
     "data": {
      "text/plain": [
       "array(['Anxiety', 'Normal', 'Depression', 'Suicidal', 'Stress', 'Bipolar',\n",
       "       'Personality disorder'], dtype=object)"
      ]
     },
     "execution_count": 28,
     "metadata": {},
     "output_type": "execute_result"
    }
   ],
   "execution_count": 28
  },
  {
   "cell_type": "code",
   "source": [
    "df.isnull().sum()"
   ],
   "metadata": {
    "id": "ByRumMYkVLGU",
    "ExecuteTime": {
     "end_time": "2025-01-12T21:26:53.352102Z",
     "start_time": "2025-01-12T21:26:53.323950Z"
    }
   },
   "outputs": [
    {
     "data": {
      "text/plain": [
       "statement    362\n",
       "status         0\n",
       "dtype: int64"
      ]
     },
     "execution_count": 29,
     "metadata": {},
     "output_type": "execute_result"
    }
   ],
   "execution_count": 29
  },
  {
   "cell_type": "code",
   "source": [
    "df.dropna(inplace=True)"
   ],
   "metadata": {
    "id": "EHvS2fBFVPVj",
    "ExecuteTime": {
     "end_time": "2025-01-12T21:26:53.548508Z",
     "start_time": "2025-01-12T21:26:53.517439Z"
    }
   },
   "outputs": [],
   "execution_count": 30
  },
  {
   "cell_type": "code",
   "source": [
    "df.isnull().sum()"
   ],
   "metadata": {
    "id": "7JgA8aeTVWBn",
    "ExecuteTime": {
     "end_time": "2025-01-12T21:26:53.688195Z",
     "start_time": "2025-01-12T21:26:53.671595Z"
    }
   },
   "outputs": [
    {
     "data": {
      "text/plain": [
       "statement    0\n",
       "status       0\n",
       "dtype: int64"
      ]
     },
     "execution_count": 31,
     "metadata": {},
     "output_type": "execute_result"
    }
   ],
   "execution_count": 31
  },
  {
   "cell_type": "code",
   "source": [
    "df.duplicated().sum()"
   ],
   "metadata": {
    "id": "rfuPqZtQVW7V",
    "ExecuteTime": {
     "end_time": "2025-01-12T21:26:53.911619Z",
     "start_time": "2025-01-12T21:26:53.814064Z"
    }
   },
   "outputs": [
    {
     "data": {
      "text/plain": [
       "1588"
      ]
     },
     "execution_count": 32,
     "metadata": {},
     "output_type": "execute_result"
    }
   ],
   "execution_count": 32
  },
  {
   "cell_type": "code",
   "source": [
    "df.drop_duplicates(inplace=True, keep='first')"
   ],
   "metadata": {
    "id": "gJM_4RL-Vav8",
    "ExecuteTime": {
     "end_time": "2025-01-12T21:26:54.108638Z",
     "start_time": "2025-01-12T21:26:54.023865Z"
    }
   },
   "outputs": [],
   "execution_count": 33
  },
  {
   "cell_type": "code",
   "source": [
    "df.duplicated().sum()"
   ],
   "metadata": {
    "id": "heYruug6VhZX",
    "ExecuteTime": {
     "end_time": "2025-01-12T21:26:54.228866Z",
     "start_time": "2025-01-12T21:26:54.151878Z"
    }
   },
   "outputs": [
    {
     "data": {
      "text/plain": [
       "0"
      ]
     },
     "execution_count": 34,
     "metadata": {},
     "output_type": "execute_result"
    }
   ],
   "execution_count": 34
  },
  {
   "cell_type": "code",
   "source": [
    "df2 = df.sample(6000).reset_index(drop=True)\n",
    "df2.shape"
   ],
   "metadata": {
    "id": "WfwNiCQprAyH",
    "ExecuteTime": {
     "end_time": "2025-01-12T21:26:54.264926Z",
     "start_time": "2025-01-12T21:26:54.251122Z"
    }
   },
   "outputs": [
    {
     "data": {
      "text/plain": [
       "(6000, 2)"
      ]
     },
     "execution_count": 35,
     "metadata": {},
     "output_type": "execute_result"
    }
   ],
   "execution_count": 35
  },
  {
   "cell_type": "code",
   "source": [
    "df2['status'].value_counts()"
   ],
   "metadata": {
    "id": "FA8ebI7xViyx",
    "ExecuteTime": {
     "end_time": "2025-01-12T21:26:54.341297Z",
     "start_time": "2025-01-12T21:26:54.320166Z"
    }
   },
   "outputs": [
    {
     "data": {
      "text/plain": [
       "status\n",
       "Normal                  1889\n",
       "Depression              1805\n",
       "Suicidal                1232\n",
       "Anxiety                  420\n",
       "Stress                   272\n",
       "Bipolar                  271\n",
       "Personality disorder     111\n",
       "Name: count, dtype: int64"
      ]
     },
     "execution_count": 36,
     "metadata": {},
     "output_type": "execute_result"
    }
   ],
   "execution_count": 36
  },
  {
   "cell_type": "code",
   "source": [
    "from imblearn.over_sampling import RandomOverSampler\n",
    "\n",
    "ros = RandomOverSampler(random_state=42)\n",
    "X_resampled, y_resampled = ros.fit_resample(df2[['statement']], df2['status'])"
   ],
   "metadata": {
    "id": "zUeevIirrWKl",
    "ExecuteTime": {
     "end_time": "2025-01-12T21:26:54.517253Z",
     "start_time": "2025-01-12T21:26:54.433476Z"
    }
   },
   "outputs": [
    {
     "name": "stderr",
     "output_type": "stream",
     "text": [
      "/opt/anaconda3/lib/python3.11/site-packages/sklearn/base.py:484: FutureWarning: `BaseEstimator._check_n_features` is deprecated in 1.6 and will be removed in 1.7. Use `sklearn.utils.validation._check_n_features` instead.\n",
      "  warnings.warn(\n",
      "/opt/anaconda3/lib/python3.11/site-packages/sklearn/base.py:493: FutureWarning: `BaseEstimator._check_feature_names` is deprecated in 1.6 and will be removed in 1.7. Use `sklearn.utils.validation._check_feature_names` instead.\n",
      "  warnings.warn(\n"
     ]
    }
   ],
   "execution_count": 37
  },
  {
   "cell_type": "code",
   "source": [
    "df_resambled = pd.concat([X_resampled, y_resampled], axis=1)\n",
    "df_resambled.head()"
   ],
   "metadata": {
    "id": "Q_pkjmmANNEG",
    "ExecuteTime": {
     "end_time": "2025-01-12T21:26:54.628068Z",
     "start_time": "2025-01-12T21:26:54.616221Z"
    }
   },
   "outputs": [
    {
     "data": {
      "text/plain": [
       "                                           statement    status\n",
       "0  I am complete failure ,I am ugly as hell I am ...  Suicidal\n",
       "1  Website blockers help a lot I block all search...   Anxiety\n",
       "2  Being in a relationship as a bipolar person is...   Bipolar\n",
       "3                                the car isn't here.    Normal\n",
       "4                        I'm not gay I'm just GAY :D    Normal"
      ],
      "text/html": [
       "<div>\n",
       "<style scoped>\n",
       "    .dataframe tbody tr th:only-of-type {\n",
       "        vertical-align: middle;\n",
       "    }\n",
       "\n",
       "    .dataframe tbody tr th {\n",
       "        vertical-align: top;\n",
       "    }\n",
       "\n",
       "    .dataframe thead th {\n",
       "        text-align: right;\n",
       "    }\n",
       "</style>\n",
       "<table border=\"1\" class=\"dataframe\">\n",
       "  <thead>\n",
       "    <tr style=\"text-align: right;\">\n",
       "      <th></th>\n",
       "      <th>statement</th>\n",
       "      <th>status</th>\n",
       "    </tr>\n",
       "  </thead>\n",
       "  <tbody>\n",
       "    <tr>\n",
       "      <th>0</th>\n",
       "      <td>I am complete failure ,I am ugly as hell I am ...</td>\n",
       "      <td>Suicidal</td>\n",
       "    </tr>\n",
       "    <tr>\n",
       "      <th>1</th>\n",
       "      <td>Website blockers help a lot I block all search...</td>\n",
       "      <td>Anxiety</td>\n",
       "    </tr>\n",
       "    <tr>\n",
       "      <th>2</th>\n",
       "      <td>Being in a relationship as a bipolar person is...</td>\n",
       "      <td>Bipolar</td>\n",
       "    </tr>\n",
       "    <tr>\n",
       "      <th>3</th>\n",
       "      <td>the car isn't here.</td>\n",
       "      <td>Normal</td>\n",
       "    </tr>\n",
       "    <tr>\n",
       "      <th>4</th>\n",
       "      <td>I'm not gay I'm just GAY :D</td>\n",
       "      <td>Normal</td>\n",
       "    </tr>\n",
       "  </tbody>\n",
       "</table>\n",
       "</div>"
      ]
     },
     "execution_count": 38,
     "metadata": {},
     "output_type": "execute_result"
    }
   ],
   "execution_count": 38
  },
  {
   "cell_type": "code",
   "source": [
    "df_resambled['status'].value_counts()"
   ],
   "metadata": {
    "id": "-Ag6e7jTNUml",
    "ExecuteTime": {
     "end_time": "2025-01-12T21:26:54.752651Z",
     "start_time": "2025-01-12T21:26:54.745999Z"
    }
   },
   "outputs": [
    {
     "data": {
      "text/plain": [
       "status\n",
       "Suicidal                1889\n",
       "Anxiety                 1889\n",
       "Bipolar                 1889\n",
       "Normal                  1889\n",
       "Depression              1889\n",
       "Personality disorder    1889\n",
       "Stress                  1889\n",
       "Name: count, dtype: int64"
      ]
     },
     "execution_count": 39,
     "metadata": {},
     "output_type": "execute_result"
    }
   ],
   "execution_count": 39
  },
  {
   "cell_type": "code",
   "source": [
    "from sklearn.preprocessing import LabelEncoder\n",
    "\n",
    "label_encoder = LabelEncoder()\n",
    "df_resambled['status'] = label_encoder.fit_transform(df_resambled['status'])\n",
    "df_resambled.head()"
   ],
   "metadata": {
    "id": "IetS1ednWLUL",
    "ExecuteTime": {
     "end_time": "2025-01-12T21:26:54.874120Z",
     "start_time": "2025-01-12T21:26:54.857655Z"
    }
   },
   "outputs": [
    {
     "data": {
      "text/plain": [
       "                                           statement  status\n",
       "0  I am complete failure ,I am ugly as hell I am ...       6\n",
       "1  Website blockers help a lot I block all search...       0\n",
       "2  Being in a relationship as a bipolar person is...       1\n",
       "3                                the car isn't here.       3\n",
       "4                        I'm not gay I'm just GAY :D       3"
      ],
      "text/html": [
       "<div>\n",
       "<style scoped>\n",
       "    .dataframe tbody tr th:only-of-type {\n",
       "        vertical-align: middle;\n",
       "    }\n",
       "\n",
       "    .dataframe tbody tr th {\n",
       "        vertical-align: top;\n",
       "    }\n",
       "\n",
       "    .dataframe thead th {\n",
       "        text-align: right;\n",
       "    }\n",
       "</style>\n",
       "<table border=\"1\" class=\"dataframe\">\n",
       "  <thead>\n",
       "    <tr style=\"text-align: right;\">\n",
       "      <th></th>\n",
       "      <th>statement</th>\n",
       "      <th>status</th>\n",
       "    </tr>\n",
       "  </thead>\n",
       "  <tbody>\n",
       "    <tr>\n",
       "      <th>0</th>\n",
       "      <td>I am complete failure ,I am ugly as hell I am ...</td>\n",
       "      <td>6</td>\n",
       "    </tr>\n",
       "    <tr>\n",
       "      <th>1</th>\n",
       "      <td>Website blockers help a lot I block all search...</td>\n",
       "      <td>0</td>\n",
       "    </tr>\n",
       "    <tr>\n",
       "      <th>2</th>\n",
       "      <td>Being in a relationship as a bipolar person is...</td>\n",
       "      <td>1</td>\n",
       "    </tr>\n",
       "    <tr>\n",
       "      <th>3</th>\n",
       "      <td>the car isn't here.</td>\n",
       "      <td>3</td>\n",
       "    </tr>\n",
       "    <tr>\n",
       "      <th>4</th>\n",
       "      <td>I'm not gay I'm just GAY :D</td>\n",
       "      <td>3</td>\n",
       "    </tr>\n",
       "  </tbody>\n",
       "</table>\n",
       "</div>"
      ]
     },
     "execution_count": 40,
     "metadata": {},
     "output_type": "execute_result"
    }
   ],
   "execution_count": 40
  },
  {
   "cell_type": "code",
   "source": [
    "df_resambled['status'].value_counts()"
   ],
   "metadata": {
    "id": "9gTAqEbRNc9v",
    "ExecuteTime": {
     "end_time": "2025-01-12T21:26:55.021200Z",
     "start_time": "2025-01-12T21:26:55.008422Z"
    }
   },
   "outputs": [
    {
     "data": {
      "text/plain": [
       "status\n",
       "6    1889\n",
       "0    1889\n",
       "1    1889\n",
       "3    1889\n",
       "2    1889\n",
       "4    1889\n",
       "5    1889\n",
       "Name: count, dtype: int64"
      ]
     },
     "execution_count": 41,
     "metadata": {},
     "output_type": "execute_result"
    }
   ],
   "execution_count": 41
  },
  {
   "metadata": {
    "ExecuteTime": {
     "end_time": "2025-01-12T21:26:55.184162Z",
     "start_time": "2025-01-12T21:26:55.167966Z"
    }
   },
   "cell_type": "code",
   "source": [
    "from joblib import dump\n",
    "dump(label_encoder, 'label_encoder.joblib')"
   ],
   "outputs": [
    {
     "data": {
      "text/plain": [
       "['label_encoder.joblib']"
      ]
     },
     "execution_count": 42,
     "metadata": {},
     "output_type": "execute_result"
    }
   ],
   "execution_count": 42
  },
  {
   "cell_type": "code",
   "source": [
    "from nltk.corpus import stopwords\n",
    "import nltk\n",
    "from nltk.tokenize import word_tokenize\n",
    "import string\n",
    "\n",
    "nltk.download('punkt_tab')\n",
    "nltk.download('stopwords')\n",
    "\n",
    "def cleaned_text(text):\n",
    "    text = text.lower()\n",
    "    token = word_tokenize(text)\n",
    "    stop_words = set(stopwords.words('english'))\n",
    "    filtered_sentence = [word for word in token if word not in stop_words and string.punctuation and word.isalnum()]\n",
    "    return \" \".join(filtered_sentence)\n",
    "\n",
    "text = \"I am learning NLP ### AA @@@ !!! , any one can HEPL ME OUT ??? \"\n",
    "cleaned_text(text)"
   ],
   "metadata": {
    "id": "_pl6FSRwWYh7",
    "ExecuteTime": {
     "end_time": "2025-01-12T21:26:57.862043Z",
     "start_time": "2025-01-12T21:26:55.348827Z"
    }
   },
   "outputs": [
    {
     "name": "stderr",
     "output_type": "stream",
     "text": [
      "[nltk_data] Downloading package punkt_tab to /Users/ricky/nltk_data...\n",
      "[nltk_data]   Package punkt_tab is already up-to-date!\n",
      "[nltk_data] Downloading package stopwords to /Users/ricky/nltk_data...\n",
      "[nltk_data]   Package stopwords is already up-to-date!\n"
     ]
    },
    {
     "data": {
      "text/plain": [
       "'learning nlp aa one hepl'"
      ]
     },
     "execution_count": 43,
     "metadata": {},
     "output_type": "execute_result"
    }
   ],
   "execution_count": 43
  },
  {
   "cell_type": "code",
   "source": [
    "X = df_resambled['statement'].apply(cleaned_text)\n",
    "y = df_resambled['status']"
   ],
   "metadata": {
    "id": "WOoRxPjoY2yt",
    "ExecuteTime": {
     "end_time": "2025-01-12T21:27:18.073863Z",
     "start_time": "2025-01-12T21:27:00.961284Z"
    }
   },
   "outputs": [],
   "execution_count": 44
  },
  {
   "cell_type": "code",
   "source": [
    "X_train, X_test, y_train, y_test = train_test_split(X, y, test_size=0.2, random_state=42)"
   ],
   "metadata": {
    "id": "PnxQpktjY79e",
    "ExecuteTime": {
     "end_time": "2025-01-12T21:27:18.127716Z",
     "start_time": "2025-01-12T21:27:18.119568Z"
    }
   },
   "outputs": [],
   "execution_count": 45
  },
  {
   "cell_type": "code",
   "source": [
    "from transformers import BertTokenizer, BertForSequenceClassification, AutoTokenizer, AutoModelForSequenceClassification, TrainingArguments, Trainer\n",
    "\n",
    "tokenizer = BertTokenizer.from_pretrained('bert-base-uncased')\n",
    "train_tokenizer = tokenizer(list(X_train), padding=True, truncation=True, max_length=128)\n",
    "test_tokenizer = tokenizer(list(X_test), padding=True, truncation=True, max_length=128)\n"
   ],
   "metadata": {
    "id": "8cqk89ReYbXe",
    "ExecuteTime": {
     "end_time": "2025-01-12T21:27:44.592107Z",
     "start_time": "2025-01-12T21:27:21.493543Z"
    }
   },
   "outputs": [
    {
     "name": "stderr",
     "output_type": "stream",
     "text": [
      "/opt/anaconda3/lib/python3.11/site-packages/torchvision/datapoints/__init__.py:12: UserWarning: The torchvision.datapoints and torchvision.transforms.v2 namespaces are still Beta. While we do not expect major breaking changes, some APIs may still change according to user feedback. Please submit any feedback you may have in this issue: https://github.com/pytorch/vision/issues/6753, and you can also check out https://github.com/pytorch/vision/issues/7319 to learn more about the APIs that we suspect might involve future changes. You can silence this warning by calling torchvision.disable_beta_transforms_warning().\n",
      "  warnings.warn(_BETA_TRANSFORMS_WARNING)\n",
      "/opt/anaconda3/lib/python3.11/site-packages/torchvision/transforms/v2/__init__.py:54: UserWarning: The torchvision.datapoints and torchvision.transforms.v2 namespaces are still Beta. While we do not expect major breaking changes, some APIs may still change according to user feedback. Please submit any feedback you may have in this issue: https://github.com/pytorch/vision/issues/6753, and you can also check out https://github.com/pytorch/vision/issues/7319 to learn more about the APIs that we suspect might involve future changes. You can silence this warning by calling torchvision.disable_beta_transforms_warning().\n",
      "  warnings.warn(_BETA_TRANSFORMS_WARNING)\n"
     ]
    }
   ],
   "execution_count": 46
  },
  {
   "cell_type": "code",
   "source": [
    "from datasets import Dataset\n",
    "\n",
    "train_dataset = Dataset.from_dict({'input_ids': train_tokenizer['input_ids'], 'attention_mask': train_tokenizer['attention_mask'], 'labels': y_train.tolist()})\n",
    "test_dataset = Dataset.from_dict({'input_ids': test_tokenizer['input_ids'], 'attention_mask': test_tokenizer['attention_mask'], 'labels': y_test.tolist()})"
   ],
   "metadata": {
    "id": "Fa-lnUmtZf37",
    "ExecuteTime": {
     "end_time": "2025-01-12T21:27:58.413155Z",
     "start_time": "2025-01-12T21:27:57.817745Z"
    }
   },
   "outputs": [],
   "execution_count": 47
  },
  {
   "cell_type": "code",
   "source": [
    "device = torch.device(\"cuda\" if torch.cuda.is_available() else \"cpu\")\n",
    "device"
   ],
   "metadata": {
    "id": "DAiW1QrbcK7C",
    "ExecuteTime": {
     "end_time": "2025-01-12T21:28:02.191815Z",
     "start_time": "2025-01-12T21:28:02.185527Z"
    }
   },
   "outputs": [
    {
     "data": {
      "text/plain": [
       "device(type='cpu')"
      ]
     },
     "execution_count": 48,
     "metadata": {},
     "output_type": "execute_result"
    }
   ],
   "execution_count": 48
  },
  {
   "cell_type": "code",
   "source": [
    "num_labels = len(df_resambled['status'].unique())\n",
    "model = BertForSequenceClassification.from_pretrained('bert-base-uncased', num_labels=num_labels)\n",
    "\n",
    "training_args = TrainingArguments(\n",
    "    output_dir=\"./results\",          # Output directory for results\n",
    "    evaluation_strategy=\"epoch\",     # Evaluate once per epoch\n",
    "    save_strategy=\"epoch\",          # Save model at the end of each epoch to match evaluation strategy\n",
    "    learning_rate=2e-5,              # Learning rate\n",
    "    per_device_train_batch_size=16,  # Batch size for training\n",
    "    per_device_eval_batch_size=16,   # Batch size for evaluation\n",
    "    num_train_epochs=5,              # Increase number of epochs\n",
    "    weight_decay=0.01,               # Strength of weight decay\n",
    "    logging_dir=\"./logs\",            # Directory for logging\n",
    "    logging_steps=10,                # Log every 10 steps\n",
    "    lr_scheduler_type=\"linear\",      # Use linear learning rate scheduler with warmup\n",
    "    warmup_steps=500,                # Number of warmup steps for learning rate scheduler\n",
    "    load_best_model_at_end=True,     # Load the best model at the end of training\n",
    "    metric_for_best_model=\"eval_loss\", # Monitor eval loss to determine the best model\n",
    "    save_total_limit=3,              # Limit the number of checkpoints to save\n",
    "    gradient_accumulation_steps= 2   # Simulate larger batch size if GPU memory is limite\n",
    ")\n",
    "\n",
    "trainer = Trainer(\n",
    "    model = model.to(device),\n",
    "    args=training_args,\n",
    "    train_dataset=train_dataset,\n",
    "    eval_dataset=test_dataset,\n",
    ")\n",
    "\n",
    "trainer.train()"
   ],
   "metadata": {
    "id": "ifATnYhqZzG-"
   },
   "execution_count": null,
   "outputs": []
  },
  {
   "cell_type": "code",
   "source": [
    "from sklearn.metrics import classification_report, confusion_matrix\n",
    "\n",
    "predictions, labels, _ = trainer.predict(test_dataset)\n",
    "predictions_label = np.argmax(predictions, axis=1)\n",
    "print(classification_report(labels, predictions_label, target_names= label_encoder.classes_))\n"
   ],
   "metadata": {
    "id": "ajpvf7FBuiqa",
    "ExecuteTime": {
     "end_time": "2025-01-12T21:43:37.223414Z",
     "start_time": "2025-01-12T21:43:37.192900Z"
    }
   },
   "outputs": [],
   "execution_count": 54
  },
  {
   "cell_type": "code",
   "source": [
    "cm = confusion_matrix(labels, predictions_label)\n",
    "sns.heatmap(cm, annot=True, fmt='d', cmap='Blues', xticklabels=label_encoder.classes_, yticklabels=label_encoder.classes_)\n",
    "plt.xlabel('Predicted')\n",
    "plt.ylabel('True')"
   ],
   "metadata": {
    "id": "VfKbF-eBOfdb"
   },
   "execution_count": null,
   "outputs": []
  },
  {
   "cell_type": "code",
   "source": [
    "# trainer.save_model('/content/drive/MyDrive/Mental project/model_bert_mental2')\n",
    "# tokenizer.save_pretrained('/content/drive/MyDrive/Mental project/model_bert_mental')"
   ],
   "metadata": {
    "id": "WgUOh7qHOk93"
   },
   "execution_count": null,
   "outputs": []
  },
  {
   "cell_type": "code",
   "source": [
    "model = AutoModelForSequenceClassification.from_pretrained(\"../model_bert_mental2\").to(device)\n",
    "# tokenizer = AutoTokenizer.from_pretrained('/content/drive/MyDrive/Mental project/model_bert_mental')\n",
    "tokenizer = AutoTokenizer.from_pretrained('bert-base-uncased')"
   ],
   "metadata": {
    "id": "0YXqQio_UlbV",
    "ExecuteTime": {
     "end_time": "2025-01-12T21:44:11.506783Z",
     "start_time": "2025-01-12T21:44:10.326782Z"
    }
   },
   "outputs": [],
   "execution_count": 55
  },
  {
   "cell_type": "code",
   "source": [
    "model"
   ],
   "metadata": {
    "collapsed": true,
    "id": "1tF_8sG6V0PI"
   },
   "execution_count": null,
   "outputs": []
  },
  {
   "cell_type": "code",
   "source": [
    "def predict_sentiment(text):\n",
    "    text_cleaned = cleaned_text(text)\n",
    "    inputs = tokenizer(text_cleaned, padding=True, truncation=True, max_length=128, return_tensors=\"pt\")\n",
    "    # Move input tensors to the same device as the model\n",
    "    inputs = {key: val.to(device) for key, val in inputs.items()}\n",
    "    outputs = model(**inputs)\n",
    "    logits = outputs.logits\n",
    "    predicted_class = torch.argmax(logits, dim=1).item()\n",
    "    return label_encoder.inverse_transform([predicted_class])[0]\n",
    "\n",
    "\n",
    "sample_texts = [\n",
    "    \"I feel perfectly fine today, nothing to worry about.\",\n",
    "    \"I can't stop thinking about what will happen if things go wrong.\",\n",
    "    \"Lately, I've been on a high, feeling like I can do anything!\",\n",
    "    \"I'm so sad, I just can't seem to get out of bed anymore.\",\n",
    "    \"I'm constantly thinking about how much better everyone else is doing than me.\",\n",
    "    \"I don't think I can keep going, everything feels so hopeless.\",\n",
    "    \"I had a really good day, spent some time with my friends.\",\n",
    "    \"I'm overwhelmed by the idea that I might lose everything.\",\n",
    "    \"I feel like nothing matters anymore, I just want to give up.\",\n",
    "    \"I'm okay today, but sometimes I get really anxious for no reason.\"\n",
    "]\n",
    "\n",
    "for text in sample_texts:\n",
    "    predicted_sentiment = predict_sentiment(text)\n",
    "    print(f\"Text: {text}\\nPredicted Sentiment: {predicted_sentiment}\\n\")"
   ],
   "metadata": {
    "id": "bheH38BFO7Jv",
    "ExecuteTime": {
     "end_time": "2025-01-12T21:45:01.514924Z",
     "start_time": "2025-01-12T21:44:59.506679Z"
    }
   },
   "outputs": [
    {
     "name": "stdout",
     "output_type": "stream",
     "text": [
      "Text: I feel perfectly fine today, nothing to worry about.\n",
      "Predicted Sentiment: Anxiety\n",
      "\n",
      "Text: I can't stop thinking about what will happen if things go wrong.\n",
      "Predicted Sentiment: Anxiety\n",
      "\n",
      "Text: Lately, I've been on a high, feeling like I can do anything!\n",
      "Predicted Sentiment: Depression\n",
      "\n",
      "Text: I'm so sad, I just can't seem to get out of bed anymore.\n",
      "Predicted Sentiment: Normal\n",
      "\n",
      "Text: I'm constantly thinking about how much better everyone else is doing than me.\n",
      "Predicted Sentiment: Normal\n",
      "\n",
      "Text: I don't think I can keep going, everything feels so hopeless.\n",
      "Predicted Sentiment: Suicidal\n",
      "\n",
      "Text: I had a really good day, spent some time with my friends.\n",
      "Predicted Sentiment: Normal\n",
      "\n",
      "Text: I'm overwhelmed by the idea that I might lose everything.\n",
      "Predicted Sentiment: Depression\n",
      "\n",
      "Text: I feel like nothing matters anymore, I just want to give up.\n",
      "Predicted Sentiment: Suicidal\n",
      "\n",
      "Text: I'm okay today, but sometimes I get really anxious for no reason.\n",
      "Predicted Sentiment: Anxiety\n",
      "\n"
     ]
    }
   ],
   "execution_count": 56
  }
 ]
}
